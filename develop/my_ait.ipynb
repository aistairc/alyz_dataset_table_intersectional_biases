{
 "cells": [
  {
   "cell_type": "markdown",
   "metadata": {
    "deletable": false,
    "editable": false
   },
   "source": [
    "# AIT Development notebook"
   ]
  },
  {
   "cell_type": "markdown",
   "metadata": {
    "deletable": false,
    "editable": false
   },
   "source": [
    "## notebook of structure"
   ]
  },
  {
   "cell_type": "markdown",
   "metadata": {
    "deletable": false,
    "editable": false
   },
   "source": [
    "| #  | Name                                               | cells | for_dev | edit               | description                                                                |\n",
    "|----|----------------------------------------------------|-------|---------|--------------------|----------------------------------------------------------------------------|\n",
    "| 1  | [Environment detection](##1-Environment-detection) | 1     | No      | uneditable         | detect whether the notebook are invoked for packaging or in production     |\n",
    "| 2  | [Preparing AIT SDK](##2-Preparing-AIT-SDK)         | 1     | Yes     | uneditable         | download and install AIT SDK                                               |\n",
    "| 3  | [Dependency Management](##3-Dependency-Management) | 3     | Yes     | required(cell #2)  | generate requirements.txt for Docker container                             |\n",
    "| 4  | [Importing Libraries](##4-Importing-Libraries)     | 2     | Yes     | required(cell #1)  | import required libraries                                                  |\n",
    "| 5  | [Manifest Generation](##5-Manifest-Generation)     | 1     | Yes     | required           | generate AIT Manifest                                                      |\n",
    "| 6  | [Prepare for the Input](##6-Prepare-for-the-Input) | 1     | Yes     | required           | generate AIT Input JSON (inventory mapper)                                 |\n",
    "| 7  | [Initialization](##7-Initialization)               | 1     | No      | uneditable         | initialization for AIT execution                                           |\n",
    "| 8  | [Function definitions](##8-Function-definitions)   | N     | No      | required           | define functions invoked from Main area.<br> also define output functions. |\n",
    "| 9  | [Main Algorithms](##9-Main-Algorithms)             | 1     | No      | required           | area for main algorithms of an AIT                                         |\n",
    "| 10 | [Entry point](##10-Entry-point)                    | 1     | No      | uneditable         | an entry point where Qunomon invoke this AIT from here                     |\n",
    "| 11 | [License](##11-License)                            | 1     | Yes     | required           | generate license information                                               |\n",
    "| 12 | [Deployment](##12-Deployment)                      | 1     | Yes     | uneditable         | convert this notebook to the python file for packaging purpose             |"
   ]
  },
  {
   "cell_type": "markdown",
   "metadata": {
    "deletable": false,
    "editable": false
   },
   "source": [
    "## notebook template revision history"
   ]
  },
  {
   "cell_type": "markdown",
   "metadata": {
    "deletable": false,
    "editable": false
   },
   "source": [
    "1.0.1 2020/10/21\n",
    "\n",
    "* add revision history\n",
    "* separate `create requirements and pip install` editable and noeditable\n",
    "* separate `import` editable and noeditable\n",
    "\n",
    "1.0.0 2020/10/12\n",
    "\n",
    "* new cerarion"
   ]
  },
  {
   "cell_type": "markdown",
   "metadata": {
    "deletable": false,
    "editable": false
   },
   "source": [
    "## body"
   ]
  },
  {
   "cell_type": "markdown",
   "metadata": {
    "deletable": false,
    "editable": false
   },
   "source": [
    "### #1 Environment detection"
   ]
  },
  {
   "cell_type": "markdown",
   "metadata": {
    "deletable": false,
    "editable": false
   },
   "source": [
    "[uneditable]"
   ]
  },
  {
   "cell_type": "code",
   "execution_count": 1,
   "metadata": {
    "deletable": false,
    "editable": false
   },
   "outputs": [],
   "source": [
    "# Determine whether to start AIT or jupyter by startup argument\n",
    "import sys\n",
    "is_ait_launch = (len(sys.argv) == 2)"
   ]
  },
  {
   "cell_type": "markdown",
   "metadata": {
    "deletable": false,
    "editable": false
   },
   "source": [
    "### #2 Preparing AIT SDK"
   ]
  },
  {
   "cell_type": "markdown",
   "metadata": {
    "deletable": false,
    "editable": false
   },
   "source": [
    "[uneditable]"
   ]
  },
  {
   "cell_type": "code",
   "execution_count": 2,
   "metadata": {
    "deletable": false,
    "editable": false
   },
   "outputs": [
    {
     "name": "stdout",
     "output_type": "stream",
     "text": [
      "\u001b[33mWARNING: Running pip as the 'root' user can result in broken permissions and conflicting behaviour with the system package manager, possibly rendering your system unusable.It is recommended to use a virtual environment instead: https://pip.pypa.io/warnings/venv. Use the --root-user-action option if you know what you are doing and want to suppress this warning.\u001b[0m\u001b[33m\n",
      "\u001b[0m\u001b[33mWARNING: Running pip as the 'root' user can result in broken permissions and conflicting behaviour with the system package manager, possibly rendering your system unusable.It is recommended to use a virtual environment instead: https://pip.pypa.io/warnings/venv. Use the --root-user-action option if you know what you are doing and want to suppress this warning.\u001b[0m\u001b[33m\n",
      "\u001b[0m"
     ]
    }
   ],
   "source": [
    "if not is_ait_launch:\n",
    "    # get ait-sdk file name\n",
    "    from pathlib import Path\n",
    "    from glob import glob\n",
    "    import re\n",
    "    import os\n",
    "\n",
    "    current_dir = %pwd\n",
    "\n",
    "    ait_sdk_path = \"./ait_sdk-*-py3-none-any.whl\"\n",
    "    ait_sdk_list = glob(ait_sdk_path)\n",
    "    ait_sdk_name = os.path.basename(ait_sdk_list[-1])\n",
    "\n",
    "    # install ait-sdk\n",
    "    !pip install -q --upgrade pip\n",
    "    !pip install -q --no-deps --force-reinstall ./$ait_sdk_name"
   ]
  },
  {
   "cell_type": "markdown",
   "metadata": {
    "deletable": false,
    "editable": false
   },
   "source": [
    "### #3 Dependency Management"
   ]
  },
  {
   "cell_type": "markdown",
   "metadata": {
    "deletable": false,
    "editable": false
   },
   "source": [
    "#### #3-1 [uneditable]"
   ]
  },
  {
   "cell_type": "code",
   "execution_count": 3,
   "metadata": {
    "deletable": false,
    "editable": false
   },
   "outputs": [],
   "source": [
    "if not is_ait_launch:\n",
    "    from ait_sdk.common.files.ait_requirements_generator import AITRequirementsGenerator\n",
    "    requirements_generator = AITRequirementsGenerator()"
   ]
  },
  {
   "cell_type": "markdown",
   "metadata": {
    "deletable": false,
    "editable": false
   },
   "source": [
    "#### #3-2 [required]"
   ]
  },
  {
   "cell_type": "code",
   "execution_count": 4,
   "metadata": {},
   "outputs": [
    {
     "name": "stdout",
     "output_type": "stream",
     "text": [
      "Found existing installation: aif360 0.6.1\n",
      "Uninstalling aif360-0.6.1:\n",
      "  Successfully uninstalled aif360-0.6.1\n",
      "\u001b[33mWARNING: Running pip as the 'root' user can result in broken permissions and conflicting behaviour with the system package manager, possibly rendering your system unusable.It is recommended to use a virtual environment instead: https://pip.pypa.io/warnings/venv. Use the --root-user-action option if you know what you are doing and want to suppress this warning.\u001b[0m\u001b[33m\n",
      "\u001b[0m"
     ]
    }
   ],
   "source": [
    "if not is_ait_launch:\n",
    "    !pip uninstall -y aif360 # Jupyter上で、複数回実行時パッチの適用に不具合が発生するため、毎回AIF360を削除する"
   ]
  },
  {
   "cell_type": "code",
   "execution_count": 5,
   "metadata": {},
   "outputs": [],
   "source": [
    "if not is_ait_launch:\n",
    "     requirements_generator.add_package('pandas','2.2.3')\n",
    "     requirements_generator.add_package('numpy','1.26.4')\n",
    "     requirements_generator.add_package('git+https://github.com/intersectional-fairness/isf.git#egg=Intersectional_Fairness==0.1.0')"
   ]
  },
  {
   "cell_type": "code",
   "execution_count": 6,
   "metadata": {},
   "outputs": [
    {
     "name": "stdout",
     "output_type": "stream",
     "text": [
      "Hit:1 http://deb.debian.org/debian bullseye InRelease\n",
      "Hit:2 http://deb.debian.org/debian-security bullseye-security InRelease\n",
      "Hit:3 http://deb.debian.org/debian bullseye-updates InRelease\n",
      "Reading package lists... Done\n",
      "Reading package lists... Done\n",
      "Building dependency tree... Done\n",
      "Reading state information... Done\n",
      "python3-tk is already the newest version (3.9.2-1).\n",
      "0 upgraded, 0 newly installed, 0 to remove and 144 not upgraded.\n"
     ]
    }
   ],
   "source": [
    "if not is_ait_launch:\n",
    "    !apt-get update && apt-get install -y python3-tk"
   ]
  },
  {
   "cell_type": "markdown",
   "metadata": {
    "deletable": false,
    "editable": false
   },
   "source": [
    "#### #3-3 [uneditable]"
   ]
  },
  {
   "cell_type": "code",
   "execution_count": 7,
   "metadata": {
    "deletable": false,
    "editable": false
   },
   "outputs": [
    {
     "name": "stdout",
     "output_type": "stream",
     "text": [
      "\u001b[33mDEPRECATION: git+https://github.com/intersectional-fairness/isf.git#egg=Intersectional_Fairness==0.1.0 contains an egg fragment with a non-PEP 508 name pip 25.0 will enforce this behaviour change. A possible replacement is to use the req @ url syntax, and remove the egg fragment. Discussion can be found at https://github.com/pypa/pip/issues/11617\u001b[0m\u001b[33m\n",
      "\u001b[0m\u001b[33mWARNING: aif360 0.6.1 does not provide the extra 'lawschoolgpa'\u001b[0m\u001b[33m\n",
      "\u001b[0m\u001b[33mWARNING: Running pip as the 'root' user can result in broken permissions and conflicting behaviour with the system package manager, possibly rendering your system unusable.It is recommended to use a virtual environment instead: https://pip.pypa.io/warnings/venv. Use the --root-user-action option if you know what you are doing and want to suppress this warning.\u001b[0m\u001b[33m\n",
      "\u001b[0m"
     ]
    }
   ],
   "source": [
    "if not is_ait_launch:\n",
    "    requirements_generator.add_package(f'./{ait_sdk_name}')\n",
    "    requirements_path = requirements_generator.create_requirements(current_dir)\n",
    "\n",
    "    !pip install -q -r $requirements_path "
   ]
  },
  {
   "cell_type": "markdown",
   "metadata": {
    "deletable": false,
    "editable": false
   },
   "source": [
    "### #4 Importing Libraries"
   ]
  },
  {
   "cell_type": "markdown",
   "metadata": {
    "deletable": false,
    "editable": false
   },
   "source": [
    "#### #4-1 [required]"
   ]
  },
  {
   "cell_type": "code",
   "execution_count": 8,
   "metadata": {},
   "outputs": [
    {
     "name": "stdout",
     "output_type": "stream",
     "text": [
      "patching file /usr/local/lib/python3.9/site-packages/aif360/algorithms/postprocessing/reject_option_classification.py\n",
      "patching file /usr/local/lib/python3.9/site-packages/aif360/datasets/structured_dataset.py\n"
     ]
    }
   ],
   "source": [
    "# isf用パッチ差し替え\n",
    "if not is_ait_launch:\n",
    "    location=\"/usr/local/lib/python3.9/site-packages\"\n",
    "    aif_360_home=location+\"/aif360\"\n",
    "    !patch {aif_360_home}/algorithms/postprocessing/reject_option_classification.py patches/reject_option_classification.patch\n",
    "    !patch {aif_360_home}/datasets/structured_dataset.py patches/structured_dataset.patch"
   ]
  },
  {
   "cell_type": "code",
   "execution_count": 9,
   "metadata": {},
   "outputs": [
    {
     "name": "stdout",
     "output_type": "stream",
     "text": [
      "Name: Intersectional-Fairness\n",
      "Version: 0.1.0\n",
      "Summary: Intersectional Fairness (ISF) is a bias detection and mitigation technology for intersectional bias, which combinations of multiple protected attributes causes.\n",
      "Home-page: \n",
      "Author: Fujitsu Limited\n",
      "Author-email: fj-isf-contact@dl.jp.fujitsu.com\n",
      "License: Apache-2.0\n",
      "Location: /usr/local/lib/python3.9/site-packages\n",
      "Requires: aif360, cvxpy, fairlearn, scikit-learn, seaborn, tensorflow\n",
      "Required-by: \n"
     ]
    }
   ],
   "source": [
    "if not is_ait_launch:\n",
    "    !pip show Intersectional-Fairness # isf用パッチ差し替え"
   ]
  },
  {
   "cell_type": "code",
   "execution_count": 10,
   "metadata": {},
   "outputs": [
    {
     "name": "stderr",
     "output_type": "stream",
     "text": [
      "2024-11-27 16:33:29.511064: I tensorflow/core/util/port.cc:153] oneDNN custom operations are on. You may see slightly different numerical results due to floating-point round-off errors from different computation orders. To turn them off, set the environment variable `TF_ENABLE_ONEDNN_OPTS=0`.\n",
      "2024-11-27 16:33:29.511679: I external/local_xla/xla/tsl/cuda/cudart_stub.cc:32] Could not find cuda drivers on your machine, GPU will not be used.\n",
      "2024-11-27 16:33:29.514011: I external/local_xla/xla/tsl/cuda/cudart_stub.cc:32] Could not find cuda drivers on your machine, GPU will not be used.\n",
      "2024-11-27 16:33:29.519411: E external/local_xla/xla/stream_executor/cuda/cuda_fft.cc:477] Unable to register cuFFT factory: Attempting to register factory for plugin cuFFT when one has already been registered\n",
      "WARNING: All log messages before absl::InitializeLog() is called are written to STDERR\n",
      "E0000 00:00:1732692809.528002  104827 cuda_dnn.cc:8310] Unable to register cuDNN factory: Attempting to register factory for plugin cuDNN when one has already been registered\n",
      "E0000 00:00:1732692809.530612  104827 cuda_blas.cc:1418] Unable to register cuBLAS factory: Attempting to register factory for plugin cuBLAS when one has already been registered\n",
      "2024-11-27 16:33:29.540514: I tensorflow/core/platform/cpu_feature_guard.cc:210] This TensorFlow binary is optimized to use available CPU instructions in performance-critical operations.\n",
      "To enable the following instructions: AVX2 AVX_VNNI FMA, in other operations, rebuild TensorFlow with the appropriate compiler flags.\n"
     ]
    }
   ],
   "source": [
    "# import if you need modules cell\n",
    "from isf.core.intersectional_fairness import IntersectionalFairness\n",
    "from isf.utils.common import output_subgroup_metrics, convert_labels, create_multi_group_label\n",
    "from isf.analysis.intersectional_bias import calc_intersectionalbias, plot_intersectionalbias_compare\n",
    "from isf.analysis.metrics import check_metrics_combination_attribute, check_metrics_single_attribute"
   ]
  },
  {
   "cell_type": "markdown",
   "metadata": {
    "deletable": false,
    "editable": false
   },
   "source": [
    "#### #4-2 [uneditable]"
   ]
  },
  {
   "cell_type": "code",
   "execution_count": 11,
   "metadata": {
    "deletable": false,
    "editable": false
   },
   "outputs": [],
   "source": [
    "# must use modules\n",
    "from os import path\n",
    "import shutil  # do not remove\n",
    "from ait_sdk.common.files.ait_input import AITInput  # do not remove\n",
    "from ait_sdk.common.files.ait_output import AITOutput  # do not remove\n",
    "from ait_sdk.common.files.ait_manifest import AITManifest  # do not remove\n",
    "from ait_sdk.develop.ait_path_helper import AITPathHelper  # do not remove\n",
    "from ait_sdk.utils.logging import get_logger, log, get_log_path  # do not remove\n",
    "from ait_sdk.develop.annotation import measures, resources, downloads, ait_main  # do not remove\n",
    "# must use modules"
   ]
  },
  {
   "cell_type": "markdown",
   "metadata": {
    "deletable": false,
    "editable": false
   },
   "source": [
    "### #5 Manifest Generation"
   ]
  },
  {
   "cell_type": "markdown",
   "metadata": {
    "deletable": false,
    "editable": false
   },
   "source": [
    "[required]"
   ]
  },
  {
   "cell_type": "code",
   "execution_count": 12,
   "metadata": {},
   "outputs": [],
   "source": [
    "if not is_ait_launch:\n",
    "    from ait_sdk.common.files.ait_manifest_generator import AITManifestGenerator\n",
    "    manifest_genenerator = AITManifestGenerator(current_dir)\n",
    "    manifest_genenerator.set_ait_name('alyz_dataset_table_intersectional_biases')\n",
    "    manifest_genenerator.set_ait_description('モデルの判定結果が保護属性において公平かを判定する。'\n",
    "                                             '表データ、モデルの判定結果と保護属性名を受け取り、保護属性ごと(もしくは保護属性組み合わせ）のバイアスをDisparate Impact値(DI)で表現する。'\n",
    "                                             'DI値が0.8以下,もしくは1.0以上の場合、バイアスの存在するデータであると判断する。'\n",
    "                                             ' ※オプションによりバイアス緩和を行い、交差バイアスの緩和結果を返す'\n",
    "                                             '本AITは入力データのサイズによってCPU・メモリリソースを大きく消費する場合があります。')\n",
    "    manifest_genenerator.set_ait_source_repository('https://github.com/aistairc/qunomon/tree/main/ait_repository/ait/alyz_dataset_table_intersectional_biases')\n",
    "    manifest_genenerator.set_ait_version('0.3')\n",
    "    manifest_genenerator.add_ait_keywords('Fairness')\n",
    "    manifest_genenerator.add_ait_keywords('Intersectional Bias')\n",
    "    manifest_genenerator.set_ait_quality('https://ait-hub.pj.aist.go.jp/ait-hub/api/0.0.1/qualityDimensions/機械学習品質マネジメントガイドライン第三版/B-1データセットの被覆性')\n",
    "\n",
    "    inventory_requirement_input_data = manifest_genenerator.format_ait_inventory_requirement(format_=['csv'])\n",
    "    inventory_requirement_label_data = manifest_genenerator.format_ait_inventory_requirement(format_=['csv'])\n",
    "    \n",
    "    manifest_genenerator.add_ait_inventories(name='input_table_data', \n",
    "                                             type_='dataset', \n",
    "                                             description='公平性を検討したい表データ。ラベル(数値かつ2値)を含む, ヘッダに列名を持ち、行番号は持たない, 連続値、カテゴリ変数混在可', \n",
    "                                             requirement=inventory_requirement_input_data)\n",
    "    manifest_genenerator.add_ait_inventories(name='input_label_data', \n",
    "                                             type_='dataset', \n",
    "                                             description='input_table_dataに対応するモデルのラベル。ヘッダに列名を持ち行番号は持たない, 数値かつ2値であること', \n",
    "                                             requirement=inventory_requirement_label_data)\n",
    "    manifest_genenerator.add_ait_parameters(name='protection_attribute', \n",
    "                                            type_='str', \n",
    "                                            description='公平性を維持したい属性名(例. Gender(性別), race(人種))。保護属性の属性値は2値であること。複数の保護属性を指定する場合は,(カンマ)区切り')\n",
    "    manifest_genenerator.add_ait_parameters(name='mitigation_flag', \n",
    "                                            type_='bool',\n",
    "                                            description='オプション変数。Trueの場合、入力データについてバイアス緩和を行う', \n",
    "                                            default_val='True')\n",
    "    manifest_genenerator.add_ait_measures(name='worstDI', \n",
    "                                          type_='float', \n",
    "                                          description='最も悪いDisparete Impact値', \n",
    "                                          structure='single')\n",
    "    manifest_genenerator.add_ait_resources(name='evaluation_result', type_='picture', description='評価結果(DI)')\n",
    "    manifest_genenerator.add_ait_resources(name='mitigation_result', type_='picture', description='緩和結果(DI)')\n",
    "    manifest_genenerator.add_ait_resources(name='mitigation_result_acc', type_='picture', description='緩和結果(Based Accuracy)')\n",
    "    manifest_genenerator.add_ait_resources(name='compare_result', type_='picture', description='緩和前後でDI比較 ※mitigation_flag＝True時のみ')\n",
    "    manifest_genenerator.add_ait_downloads(name='Log', \n",
    "                                           description='AIT実行ログ')\n",
    "    manifest_path = manifest_genenerator.write()"
   ]
  },
  {
   "cell_type": "markdown",
   "metadata": {
    "deletable": false,
    "editable": false
   },
   "source": [
    "### #6 Prepare for the Input"
   ]
  },
  {
   "cell_type": "markdown",
   "metadata": {
    "deletable": false,
    "editable": false
   },
   "source": [
    "[required]"
   ]
  },
  {
   "cell_type": "code",
   "execution_count": 13,
   "metadata": {},
   "outputs": [],
   "source": [
    "if not is_ait_launch:\n",
    "     from ait_sdk.common.files.ait_input_generator import AITInputGenerator\n",
    "     input_generator = AITInputGenerator(manifest_path)\n",
    "     input_generator.add_ait_inventories(name='input_table_data', value='adult_dataset_full.csv')\n",
    "     input_generator.add_ait_inventories(name='input_label_data', value='adult_dataset_full_classified.csv')\n",
    "     input_generator.set_ait_params(name='protection_attribute',value='race,sex')\n",
    "     input_generator.set_ait_params(name='mitigation_flag',value='True')\n",
    "     input_generator.write()"
   ]
  },
  {
   "cell_type": "markdown",
   "metadata": {
    "deletable": false,
    "editable": false
   },
   "source": [
    "### #7 Initialization"
   ]
  },
  {
   "cell_type": "markdown",
   "metadata": {
    "deletable": false,
    "editable": false
   },
   "source": [
    "[uneditable]"
   ]
  },
  {
   "cell_type": "code",
   "execution_count": 14,
   "metadata": {
    "deletable": false,
    "editable": false
   },
   "outputs": [],
   "source": [
    "logger = get_logger()\n",
    "\n",
    "ait_manifest = AITManifest()\n",
    "ait_input = AITInput(ait_manifest)\n",
    "ait_output = AITOutput(ait_manifest)\n",
    "\n",
    "if is_ait_launch:\n",
    "    # launch from AIT\n",
    "    current_dir = path.dirname(path.abspath(__file__))\n",
    "    path_helper = AITPathHelper(argv=sys.argv, ait_input=ait_input, ait_manifest=ait_manifest, entry_point_dir=current_dir)\n",
    "else:\n",
    "    # launch from jupyter notebook\n",
    "    # ait.input.json make in input_dir\n",
    "    input_dir = '/usr/local/qai/mnt/ip/job_args/1/1'\n",
    "    current_dir = %pwd\n",
    "    path_helper = AITPathHelper(argv=['', input_dir], ait_input=ait_input, ait_manifest=ait_manifest, entry_point_dir=current_dir)\n",
    "\n",
    "ait_input.read_json(path_helper.get_input_file_path())\n",
    "ait_manifest.read_json(path_helper.get_manifest_file_path())\n",
    "\n",
    "### do not edit cell"
   ]
  },
  {
   "cell_type": "markdown",
   "metadata": {
    "deletable": false,
    "editable": false
   },
   "source": [
    "### #8 Function definitions"
   ]
  },
  {
   "cell_type": "markdown",
   "metadata": {
    "deletable": false,
    "editable": false
   },
   "source": [
    "[required]"
   ]
  },
  {
   "cell_type": "code",
   "execution_count": 15,
   "metadata": {},
   "outputs": [],
   "source": [
    "from isf.core.intersectional_fairness import IntersectionalFairness\n",
    "from isf.utils.common import output_subgroup_metrics, convert_labels, create_multi_group_label\n",
    "from isf.analysis.intersectional_bias import calc_intersectionalbias, plot_intersectionalbias_compare,calc_intersectionalbias_matrix\n",
    "from isf.analysis.metrics import check_metrics_combination_attribute, check_metrics_single_attribute\n",
    "from isf.algorithms.massaging import Massaging\n",
    "import numpy as np\n",
    "import pandas as pd\n",
    "import matplotlib.pyplot as plt\n",
    "from matplotlib.gridspec import GridSpec\n",
    "import seaborn as sns\n",
    "from aif360.datasets import BinaryLabelDataset\n",
    "import warnings\n",
    "warnings.filterwarnings('ignore', category=FutureWarning)  # FutureWarningを無視"
   ]
  },
  {
   "cell_type": "code",
   "execution_count": 16,
   "metadata": {},
   "outputs": [],
   "source": [
    "def read_protection_attribute(protection_attribute):\n",
    "    protected_attribute_names = protection_attribute.split(',')\n",
    "    protected_attribute_names = [str.strip(attr) for attr in protected_attribute_names]\n",
    "    return protected_attribute_names"
   ]
  },
  {
   "cell_type": "code",
   "execution_count": 17,
   "metadata": {},
   "outputs": [],
   "source": [
    "def convert_dataset(input_table_data, input_label_data, protection_attribute):\n",
    "    '''\n",
    "    CSVからAIF360.BinaryLabelDatasetを生成\n",
    "    '''\n",
    "    label_name = str(input_label_data.columns[0])\n",
    "    input_table_data = input_table_data.join(input_label_data)\n",
    "    \n",
    "    protected_attribute_names = read_protection_attribute(protection_attribute)\n",
    "    \n",
    "    dataset = BinaryLabelDataset(df=input_table_data, \n",
    "                                label_names=[label_name], \n",
    "                                protected_attribute_names=protected_attribute_names)\n",
    "    \n",
    "    # 特権ラベル(ラベル属性のうち注視するラベル値)はラベル値のうち最も高い値\n",
    "    dataset.favorable_label=max(list(set(input_table_data[label_name])))\n",
    "    \n",
    "    return dataset"
   ]
  },
  {
   "cell_type": "code",
   "execution_count": 18,
   "metadata": {},
   "outputs": [],
   "source": [
    "# 入力データの公平性を評価\n",
    "@log(logger)\n",
    "@measures(ait_output, 'worstDI')\n",
    "def calc_worstDI(df_lr_di):\n",
    "    '''\n",
    "    最も悪いDI値を返す\n",
    "    '''\n",
    "    higher = max(df_lr_di[\"DispareteImpact\"])\n",
    "    lower  = min(df_lr_di[\"DispareteImpact\"])\n",
    "    di_gap_low  = np.abs(0.9-lower)\n",
    "    di_gap_high = np.abs(higher-0.9)\n",
    "\n",
    "    worstDI = lower\n",
    "    if di_gap_low < di_gap_high:\n",
    "        worstDI = higher\n",
    "\n",
    "    return worstDI"
   ]
  },
  {
   "cell_type": "code",
   "execution_count": 19,
   "metadata": {},
   "outputs": [],
   "source": [
    "# 入力データの公平性評価結果\n",
    "@log(logger)\n",
    "@resources(ait_output, path_helper, 'evaluation_result', 'evaluation_result.png')\n",
    "def calc_DI(ds, file_path: str=None) -> None:\n",
    "    '''\n",
    "    入力データのDI値を保護属性の組み合わせごとに棒グラフで出力\n",
    "    '''\n",
    "    df_lr_di = calc_intersectionalbias(ds, \"DispareteImpact\")\n",
    "\n",
    "    fig = plt.figure(dpi=100, figsize=(8,6))\n",
    "    ax=df_lr_di.plot.bar()\n",
    "    ax.set_xlabel('Combination of protection attributes')\n",
    "    ax.set_ylabel('Disparete Impact')\n",
    "    ax.set_title('Intersectional-Bias Identification')\n",
    "\n",
    "    # save as png\n",
    "    plt.savefig(file_path)\n",
    "    \n",
    "    return df_lr_di"
   ]
  },
  {
   "cell_type": "code",
   "execution_count": 20,
   "metadata": {},
   "outputs": [],
   "source": [
    "# 緩和データの公平性評価結果\n",
    "@log(logger)\n",
    "@resources(ait_output, path_helper, 'mitigation_result', 'mitigation_result.png')\n",
    "def calc_DI_mitigated(ds, file_path: str=None) -> None:\n",
    "    '''\n",
    "    緩和データのDI値を保護属性の組み合わせごとに棒グラフで出力\n",
    "    '''\n",
    "    df_lr_di = calc_intersectionalbias(ds, \"DispareteImpact\")\n",
    "\n",
    "    fig = plt.figure(dpi=100, figsize=(8,6))\n",
    "    ax=df_lr_di.plot.bar()\n",
    "    ax.set_xlabel('Combination of protection attributes')\n",
    "    ax.set_ylabel('Disparete Impact')\n",
    "    ax.set_title('Intersectional-Bias Identification')\n",
    "\n",
    "    # save as png\n",
    "    plt.savefig(file_path)\n",
    "    \n",
    "    return df_lr_di"
   ]
  },
  {
   "cell_type": "code",
   "execution_count": 21,
   "metadata": {},
   "outputs": [],
   "source": [
    "# 緩和データの公平性評価結果\n",
    "@log(logger)\n",
    "@resources(ait_output, path_helper, 'mitigation_result_acc', 'mitigation_result_acc.csv')\n",
    "def calc_Based_Accuracy_mitigated(ds, ds_predicted, file_path: str=None) -> None:\n",
    "    '''\n",
    "    緩和データのBased Accuracyを保護属性の組み合わせごとに出力\n",
    "    '''\n",
    "    group_protected_attrs, label_unique_nums = create_multi_group_label(ds_predicted)\n",
    "    _, sg_metrics = output_subgroup_metrics(ds, ds_predicted, group_protected_attrs)\n",
    "\n",
    "    result_combattr_bias = sg_metrics[['group', 'base_rate', 'selection_rate', 'Balanced_Accuracy']]\n",
    "    result_combattr_bias.to_csv(file_path, index=False)\n",
    "    \n",
    "    return result_combattr_bias"
   ]
  },
  {
   "cell_type": "code",
   "execution_count": 22,
   "metadata": {},
   "outputs": [],
   "source": [
    "# グラフ比較\n",
    "@log(logger)\n",
    "@resources(ait_output, path_helper, 'compare_result', 'compare_result.png')\n",
    "def plot_intersectionalbias_compare(ds_bef, ds_aft, file_path: str=None) -> None:\n",
    "    '''\n",
    "    Compare drawing of intersectional bias in heat map\n",
    "\n",
    "    Parameters\n",
    "    ----------\n",
    "    ds_bef : BinaryLabelDataset\n",
    "        Dataset containing two sensitive attributes (left figure)\n",
    "    ds_aft : BinaryLabelDataset\n",
    "        Dataset containing two sensitive attributes (right figure)\n",
    "    '''\n",
    "\n",
    "    df_bef = calc_intersectionalbias_matrix(ds_bef, \"DispareteImpact\")\n",
    "    df_aft = calc_intersectionalbias_matrix(ds_aft, \"DispareteImpact\")\n",
    "\n",
    "    fig = plt.figure(dpi=100, figsize=(8,3))\n",
    "    gs = GridSpec(1, 2)\n",
    "    ss1 = gs.new_subplotspec((0, 0))\n",
    "    ss2 = gs.new_subplotspec((0, 1))\n",
    "\n",
    "    ax1 = plt.subplot(ss1)\n",
    "    ax2 = plt.subplot(ss2)\n",
    "\n",
    "    ax1.set_title(\"Original\")\n",
    "    sns.heatmap(df_bef, ax=ax1, vmax=2, vmin=0, center=1, annot=True, cmap='hot')\n",
    "\n",
    "    ax2.set_title(\"ISF(Massaging is used)\")\n",
    "    sns.heatmap(df_aft, ax=ax2, vmax=2, vmin=0, center=1, annot=True, cmap='hot')\n",
    "\n",
    "    plt.savefig(file_path)"
   ]
  },
  {
   "cell_type": "code",
   "execution_count": 23,
   "metadata": {},
   "outputs": [],
   "source": [
    "# 緩和失敗(表)\n",
    "@log(logger)\n",
    "@resources(ait_output, path_helper, 'mitigation_result_acc', 'mitigate_failed_acc.csv')\n",
    "def mitigation_failed_ret_table(file_path: str=None) -> None:\n",
    "    pd.DataFrame({'Mitigation Failed'}).to_csv(file_path, header=False, index=False)"
   ]
  },
  {
   "cell_type": "code",
   "execution_count": 24,
   "metadata": {},
   "outputs": [],
   "source": [
    "# 緩和失敗(画像)\n",
    "@log(logger)\n",
    "@resources(ait_output, path_helper, 'mitigation_result', 'mitigate_failed.png')\n",
    "def mitigation_failed_ret_picture(file_path: str=None) -> None:\n",
    "    print('mitigation_failed_ret_picture')\n",
    "    fig, ax = plt.subplots()\n",
    "    ax.set_title('Mitigation Failed')\n",
    "    plt.savefig(file_path)\n",
    "    \n",
    "@log(logger)\n",
    "@resources(ait_output, path_helper, 'compare_result', 'mitigate_failed_compare.png')\n",
    "def mitigation_compare_failed_ret_picture(file_path: str=None) -> None:\n",
    "    print('mitigation_compare_failed_ret_picture')\n",
    "    fig, ax = plt.subplots()\n",
    "    ax.set_title('Mitigation Failed')\n",
    "    plt.savefig(file_path)"
   ]
  },
  {
   "cell_type": "code",
   "execution_count": 25,
   "metadata": {},
   "outputs": [],
   "source": [
    "@log(logger)\n",
    "@downloads(ait_output, path_helper, 'Log', 'ait.log')\n",
    "def move_log(file_path: str=None) -> str:\n",
    "    shutil.move(get_log_path(), file_path)"
   ]
  },
  {
   "cell_type": "markdown",
   "metadata": {
    "deletable": false,
    "editable": false
   },
   "source": [
    "### #9 Main Algorithms"
   ]
  },
  {
   "cell_type": "markdown",
   "metadata": {
    "deletable": false,
    "editable": false
   },
   "source": [
    "[required]"
   ]
  },
  {
   "cell_type": "code",
   "execution_count": 26,
   "metadata": {},
   "outputs": [],
   "source": [
    "@log(logger)\n",
    "@ait_main(ait_output, path_helper)\n",
    "def main() -> None:\n",
    "    print('Input data load.')\n",
    "    input_table_data = pd.read_csv(ait_input.get_inventory_path('input_table_data'))\n",
    "    input_label_data = pd.read_csv(ait_input.get_inventory_path('input_label_data'))\n",
    "    protection_attribute = ait_input.get_method_param_value('protection_attribute')\n",
    "    mitigation_flag = ait_input.get_method_param_value('mitigation_flag')\n",
    "    \n",
    "    # AIF360.Dataset化\n",
    "    print('Convert input data to dataset')\n",
    "    dataset=convert_dataset(\n",
    "                     input_table_data,\n",
    "                     input_label_data,\n",
    "                     protection_attribute)\n",
    "\n",
    "    # 入力データの公平性を評価\n",
    "    print('Evaluation Fairness')\n",
    "    df_di_matrix = calc_DI(dataset)       # ait_resources\n",
    "    plt.show()\n",
    "    worstDI = calc_worstDI(df_di_matrix)  # ait_measures\n",
    "    print(\"worstDI=\",worstDI)\n",
    "    \n",
    "    print(\"Bias of input data\")\n",
    "    print(df_di_matrix)\n",
    "    \n",
    "    # バイアス緩和\n",
    "    if mitigation_flag==mitigation_flag:\n",
    "        print('Bias mitigation start')\n",
    "        try:\n",
    "            if len(read_protection_attribute(protection_attribute))==1:\n",
    "                # 保護属性が1種なのでMassaging\n",
    "                mg=Massaging({'protected_attribute_name':protection_attribute})\n",
    "\n",
    "                # training\n",
    "                mg.fit(dataset)\n",
    "\n",
    "                # predict\n",
    "                ds_predicted = mg.transform(dataset)\n",
    "\n",
    "            else:\n",
    "                # 保護属性が複数なのでISF(Massagingの拡張)で入力データの公平性を評価\n",
    "                IF = IntersectionalFairness('Massaging', 'DemographicParity')\n",
    "                \n",
    "                # training\n",
    "                IF.fit(dataset)\n",
    "\n",
    "                # predict\n",
    "                ds_predicted = IF.transform(dataset)\n",
    "\n",
    "        except Exception as e:\n",
    "            # 緩和処理失敗\n",
    "            print('Bias mitigation failed')\n",
    "            mitigation_failed_ret_table()            # ait_resources\n",
    "            mitigation_failed_ret_picture()          # ait_resources\n",
    "            mitigation_compare_failed_ret_picture()  # ait_resources\n",
    "            return                    \n",
    "\n",
    "        print('Bias mitigation end')\n",
    "\n",
    "        # 緩和データの公平性を評価\n",
    "        df_di_matrix_mitigated = calc_DI_mitigated(ds_predicted)                 # ait_resources\n",
    "        plt.show()\n",
    "        df_acc_mitigated = calc_Based_Accuracy_mitigated(dataset, ds_predicted)  # ait_resources\n",
    "        plt.show()\n",
    "\n",
    "        print(\"緩和後のバイアス\")\n",
    "        print(df_di_matrix_mitigated)\n",
    "\n",
    "        print(\"緩和後の精度\")\n",
    "        print(df_acc_mitigated)\n",
    "\n",
    "        # 緩和前との比較(保護属性が2値の場合のみ)\n",
    "        if len(read_protection_attribute(protection_attribute))==2:\n",
    "            plot_intersectionalbias_compare(dataset, ds_predicted)  # ait_resources\n",
    "            plt.show()"
   ]
  },
  {
   "cell_type": "markdown",
   "metadata": {
    "deletable": false,
    "editable": false
   },
   "source": [
    "### #10 Entry point"
   ]
  },
  {
   "cell_type": "markdown",
   "metadata": {
    "deletable": false,
    "editable": false
   },
   "source": [
    "[uneditable]"
   ]
  },
  {
   "cell_type": "code",
   "execution_count": 27,
   "metadata": {
    "deletable": false,
    "editable": false
   },
   "outputs": [
    {
     "name": "stdout",
     "output_type": "stream",
     "text": [
      "Input data load.\n",
      "Convert input data to dataset\n",
      "Evaluation Fairness\n"
     ]
    },
    {
     "data": {
      "text/plain": [
       "<Figure size 800x600 with 0 Axes>"
      ]
     },
     "metadata": {},
     "output_type": "display_data"
    },
    {
     "data": {
      "image/png": "[encoded data removed]",
      "text/plain": [
       "<Figure size 640x480 with 1 Axes>"
      ]
     },
     "metadata": {},
     "output_type": "display_data"
    },
    {
     "name": "stdout",
     "output_type": "stream",
     "text": [
      "worstDI= 2.8961455591879814\n",
      "Bias of input data\n",
      "                  DispareteImpact\n",
      "race=0.0,sex=0.0         0.220587\n",
      "race=0.0,sex=1.0         0.820665\n",
      "race=1.0,sex=0.0         0.345882\n",
      "race=1.0,sex=1.0         2.896146\n",
      "Bias mitigation start\n"
     ]
    },
    {
     "name": "stderr",
     "output_type": "stream",
     "text": [
      "/usr/local/lib/python3.9/site-packages/sklearn/linear_model/_logistic.py:444: ConvergenceWarning: lbfgs failed to converge (status=1):\n",
      "STOP: TOTAL NO. of ITERATIONS REACHED LIMIT.\n",
      "\n",
      "Increase the number of iterations (max_iter) or scale the data as shown in:\n",
      "    https://scikit-learn.org/stable/modules/preprocessing.html\n",
      "Please also refer to the documentation for alternative solver options:\n",
      "    https://scikit-learn.org/stable/modules/linear_model.html#logistic-regression\n",
      "  n_iter_i = _check_optimize_result(\n",
      "/usr/local/lib/python3.9/site-packages/sklearn/linear_model/_logistic.py:444: ConvergenceWarning: lbfgs failed to converge (status=1):\n",
      "STOP: TOTAL NO. of ITERATIONS REACHED LIMIT.\n",
      "\n",
      "Increase the number of iterations (max_iter) or scale the data as shown in:\n",
      "    https://scikit-learn.org/stable/modules/preprocessing.html\n",
      "Please also refer to the documentation for alternative solver options:\n",
      "    https://scikit-learn.org/stable/modules/linear_model.html#logistic-regression\n",
      "  n_iter_i = _check_optimize_result(\n",
      "/usr/local/lib/python3.9/site-packages/sklearn/linear_model/_logistic.py:444: ConvergenceWarning: lbfgs failed to converge (status=1):\n",
      "STOP: TOTAL NO. of ITERATIONS REACHED LIMIT.\n",
      "\n",
      "Increase the number of iterations (max_iter) or scale the data as shown in:\n",
      "    https://scikit-learn.org/stable/modules/preprocessing.html\n",
      "Please also refer to the documentation for alternative solver options:\n",
      "    https://scikit-learn.org/stable/modules/linear_model.html#logistic-regression\n",
      "  n_iter_i = _check_optimize_result(\n",
      "/usr/local/lib/python3.9/site-packages/sklearn/linear_model/_logistic.py:444: ConvergenceWarning: lbfgs failed to converge (status=1):\n",
      "STOP: TOTAL NO. of ITERATIONS REACHED LIMIT.\n",
      "\n",
      "Increase the number of iterations (max_iter) or scale the data as shown in:\n",
      "    https://scikit-learn.org/stable/modules/preprocessing.html\n",
      "Please also refer to the documentation for alternative solver options:\n",
      "    https://scikit-learn.org/stable/modules/linear_model.html#logistic-regression\n",
      "  n_iter_i = _check_optimize_result(\n",
      "/usr/local/lib/python3.9/site-packages/sklearn/linear_model/_logistic.py:444: ConvergenceWarning: lbfgs failed to converge (status=1):\n",
      "STOP: TOTAL NO. of ITERATIONS REACHED LIMIT.\n",
      "\n",
      "Increase the number of iterations (max_iter) or scale the data as shown in:\n",
      "    https://scikit-learn.org/stable/modules/preprocessing.html\n",
      "Please also refer to the documentation for alternative solver options:\n",
      "    https://scikit-learn.org/stable/modules/linear_model.html#logistic-regression\n",
      "  n_iter_i = _check_optimize_result(\n"
     ]
    },
    {
     "name": "stdout",
     "output_type": "stream",
     "text": [
      "Bias mitigation end\n"
     ]
    },
    {
     "data": {
      "text/plain": [
       "<Figure size 800x600 with 0 Axes>"
      ]
     },
     "metadata": {},
     "output_type": "display_data"
    },
    {
     "data": {
      "image/png": "[encoded data removed]",
      "text/plain": [
       "<Figure size 640x480 with 1 Axes>"
      ]
     },
     "metadata": {},
     "output_type": "display_data"
    },
    {
     "name": "stdout",
     "output_type": "stream",
     "text": [
      "緩和後のバイアス\n",
      "                  DispareteImpact\n",
      "race=0.0,sex=0.0         1.149104\n",
      "race=0.0,sex=1.0         0.762905\n",
      "race=1.0,sex=0.0         0.964778\n",
      "race=1.0,sex=1.0         1.067259\n",
      "緩和後の精度\n",
      "              group  base_rate  selection_rate  Balanced_Accuracy\n",
      "0             total   0.202490        0.222701           0.901334\n",
      "1  race:0.0_sex:0.0   0.046942        0.253556           0.891604\n",
      "2  race:0.0_sex:1.0   0.168520        0.173082           0.996239\n",
      "3  race:1.0_sex:0.0   0.084575        0.216864           0.927744\n",
      "4  race:1.0_sex:1.0   0.274944        0.228497           0.915534\n"
     ]
    },
    {
     "data": {
      "image/png": "[encoded data removed]",
      "text/plain": [
       "<Figure size 800x300 with 4 Axes>"
      ]
     },
     "metadata": {},
     "output_type": "display_data"
    }
   ],
   "source": [
    "if __name__ == '__main__':\n",
    "    main()"
   ]
  },
  {
   "cell_type": "markdown",
   "metadata": {
    "deletable": false,
    "editable": false
   },
   "source": [
    "### #11 License"
   ]
  },
  {
   "cell_type": "markdown",
   "metadata": {
    "deletable": false,
    "editable": false
   },
   "source": [
    "[required]"
   ]
  },
  {
   "cell_type": "code",
   "execution_count": 28,
   "metadata": {},
   "outputs": [],
   "source": [
    "ait_owner='AIST'\n",
    "ait_creation_year='2023'"
   ]
  },
  {
   "cell_type": "markdown",
   "metadata": {
    "deletable": false,
    "editable": false
   },
   "source": [
    "### #12 Deployment"
   ]
  },
  {
   "cell_type": "markdown",
   "metadata": {
    "deletable": false,
    "editable": false
   },
   "source": [
    "[uneditable] "
   ]
  },
  {
   "cell_type": "code",
   "execution_count": 29,
   "metadata": {
    "deletable": false,
    "editable": false
   },
   "outputs": [],
   "source": [
    "if not is_ait_launch:\n",
    "    from ait_sdk.deploy import prepare_deploy\n",
    "    from ait_sdk.license.license_generator import LicenseGenerator\n",
    "    \n",
    "    current_dir = %pwd\n",
    "    prepare_deploy(ait_sdk_name, current_dir, requirements_path)\n",
    "    \n",
    "    # output License.txt\n",
    "    license_generator = LicenseGenerator()\n",
    "    license_generator.write('../top_dir/LICENSE.txt', ait_creation_year, ait_owner)\n"
   ]
  },
  {
   "cell_type": "code",
   "execution_count": null,
   "metadata": {},
   "outputs": [],
   "source": []
  }
 ],
 "metadata": {
  "celltoolbar": "Edit Metadata",
  "kernelspec": {
   "display_name": "Python 3 (ipykernel)",
   "language": "python",
   "name": "python3"
  },
  "language_info": {
   "codemirror_mode": {
    "name": "ipython",
    "version": 3
   },
   "file_extension": ".py",
   "mimetype": "text/x-python",
   "name": "python",
   "nbconvert_exporter": "python",
   "pygments_lexer": "ipython3",
   "version": "3.9.13"
  },
  "vscode": {
   "interpreter": {
    "hash": "cc00c6a56d87bd8bd7773e730c60ddfdb8804da6b7537df09499efbcf81630f7"
   }
  }
 },
 "nbformat": 4,
 "nbformat_minor": 4
}
